{
 "cells": [
  {
   "cell_type": "code",
   "execution_count": null,
   "id": "9be88542-43a0-41cf-88e5-be5692d4a56f",
   "metadata": {},
   "outputs": [],
   "source": [
    "import os, time, csv\n",
    "from dotenv import load_dotenv\n",
    "from googleapiclient.discovery import build\n",
    "\n",
    "load_dotenv()\n",
    "API_KEY = os.getenv(\"YOUTUBE_API_KEY\")\n",
    "yt = build(\"youtube\", \"v3\", developerKey = API_KEY)\n",
    "\n",
    "# ---- pick the channel ----\n",
    "CHANNEL_HANDLE = \"\"\n"
   ]
  }
 ],
 "metadata": {
  "kernelspec": {
   "display_name": "Python 3 (ipykernel)",
   "language": "python",
   "name": "python3"
  },
  "language_info": {
   "codemirror_mode": {
    "name": "ipython",
    "version": 3
   },
   "file_extension": ".py",
   "mimetype": "text/x-python",
   "name": "python",
   "nbconvert_exporter": "python",
   "pygments_lexer": "ipython3",
   "version": "3.11.5"
  }
 },
 "nbformat": 4,
 "nbformat_minor": 5
}
